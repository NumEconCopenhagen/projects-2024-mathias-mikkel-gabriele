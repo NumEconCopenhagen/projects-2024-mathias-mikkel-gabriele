{
 "cells": [
  {
   "cell_type": "markdown",
   "metadata": {},
   "source": [
    "**Table of contents**<a id='toc0_'></a>    \n",
    "- 1. [Pareto optimal bundles, $C$, given initial endownments](#toc1_)    \n",
    "- 2. [Errors from $p_1 \\in \\mathcal{P}_1$](#toc2_)    \n",
    "- 3. [Market clearing price](#toc3_)    \n",
    "- 4. [Assignment 4](#toc4_)    \n",
    "- 5. [Individual optimization](#toc5_)    \n",
    "  - 5.1. [Optimizing under C](#toc5_1_)    \n",
    "  - 5.2. [Optimizing over the infinite set between 0 and 1](#toc5_2_)    \n",
    "- 6. [Assignment 6](#toc6_)    \n",
    "- 7. [$W$](#toc7_)    \n",
    "- 8. [Market equilibrium for each $\\omega^A \\in \\mathcal{W}$](#toc8_)    \n",
    "\n",
    "<!-- vscode-jupyter-toc-config\n",
    "\tnumbering=true\n",
    "\tanchor=true\n",
    "\tflat=false\n",
    "\tminLevel=2\n",
    "\tmaxLevel=6\n",
    "\t/vscode-jupyter-toc-config -->\n",
    "<!-- THIS CELL WILL BE REPLACED ON TOC UPDATE. DO NOT WRITE YOUR TEXT IN THIS CELL -->"
   ]
  },
  {
   "cell_type": "markdown",
   "metadata": {},
   "source": [
    "# Preliminaries"
   ]
  },
  {
   "cell_type": "code",
   "execution_count": null,
   "metadata": {},
   "outputs": [],
   "source": [
    "import matplotlib.pyplot as plt\n",
    "from scipy import optimize \n",
    "import scipy.stats \n",
    "\n",
    "import numpy as np\n",
    "plt.rcParams.update({\"axes.grid\":True,\"grid.color\":\"black\",\"grid.alpha\":\"0.25\",\"grid.linestyle\":\"--\"})\n",
    "plt.rcParams.update({'font.size': 14})\n",
    "\n",
    "\n",
    "%load_ext autoreload\n",
    "%autoreload 2"
   ]
  },
  {
   "cell_type": "code",
   "execution_count": null,
   "metadata": {},
   "outputs": [],
   "source": [
    "# import modelclass from ExchangeEconomy.py\n",
    "from ExchangeEconomy import ExchangeEconomyClass"
   ]
  },
  {
   "cell_type": "markdown",
   "metadata": {},
   "source": [
    "## 1. <a id='toc1_'></a>[Pareto optimal bundles, $C$, given initial endownments](#toc0_)"
   ]
  },
  {
   "cell_type": "code",
   "execution_count": null,
   "metadata": {},
   "outputs": [],
   "source": [
    "model = ExchangeEconomyClass()\n",
    "\n",
    "N = 75\n",
    "\n",
    "w1A = 0.8\n",
    "w2A = 0.3\n",
    "\n",
    "x1A = np.linspace(0,1,N+1)\n",
    "x2A = x1A.copy()\n",
    "\n",
    "x1possible = []\n",
    "x2possible = []\n",
    "\n",
    "for x1 in x1A:\n",
    "    for x2 in x2A:\n",
    "        if model.utility_A(x1,x2) >= model.utility_A(w1A,w2A) and model.utility_B((1-x1),(1-x2)) >= model.utility_B(1-w1A,1-w2A):\n",
    "            x1possible.append(x1)\n",
    "            x2possible.append(x2)\n",
    "\n",
    "print(x1possible[0:5])\n"
   ]
  },
  {
   "cell_type": "code",
   "execution_count": null,
   "metadata": {},
   "outputs": [],
   "source": [
    "par = model.par\n",
    "\n",
    "# a. total endowment\n",
    "w1bar = 1.0\n",
    "w2bar = 1.0\n",
    "\n",
    "# b. figure set up\n",
    "fig = plt.figure(frameon=False,figsize=(6,6), dpi=100)\n",
    "ax_A = fig.add_subplot(1, 1, 1)\n",
    "\n",
    "ax_A.set_xlabel(\"$x_1^A$\")\n",
    "ax_A.set_ylabel(\"$x_2^A$\")\n",
    "\n",
    "temp = ax_A.twinx()\n",
    "temp.set_ylabel(\"$x_2^B$\")\n",
    "ax_B = temp.twiny()\n",
    "ax_B.set_xlabel(\"$x_1^B$\")\n",
    "ax_B.invert_xaxis()\n",
    "ax_B.invert_yaxis()\n",
    "\n",
    "# A\n",
    "ax_A.scatter(par.w1A,par.w2A,marker='s',color='red',label='endowment')\n",
    "ax_A.scatter(x1possible,x2possible, alpha=0.5, label='pareto improvements')\n",
    "\n",
    "# limits\n",
    "ax_A.plot([0,w1bar],[0,0],lw=2,color='black')\n",
    "ax_A.plot([0,w1bar],[w2bar,w2bar],lw=2,color='black')\n",
    "ax_A.plot([0,0],[0,w2bar],lw=2,color='black')\n",
    "ax_A.plot([w1bar,w1bar],[0,w2bar],lw=2,color='black')\n",
    "\n",
    "ax_A.set_xlim([-0.1, w1bar + 0.1])\n",
    "ax_A.set_ylim([-0.1, w2bar + 0.1])    \n",
    "ax_B.set_xlim([w1bar + 0.1, -0.1])\n",
    "ax_B.set_ylim([w2bar + 0.1, -0.1])\n",
    "\n",
    "ax_A.legend(frameon=True, loc='lower right', bbox_to_anchor=(1.6,1.0));"
   ]
  },
  {
   "cell_type": "markdown",
   "metadata": {},
   "source": [
    "## 2. <a id='toc2_'></a>[Errors from $p_1 \\in \\mathcal{P}_1$](#toc0_)"
   ]
  },
  {
   "cell_type": "code",
   "execution_count": null,
   "metadata": {},
   "outputs": [],
   "source": [
    "# Initialize empty list\n",
    "p1 = []\n",
    "\n",
    "# Fill the list by looping\n",
    "for i in range(N+1):\n",
    "    p1.append(0.5 + 2*i/N)\n",
    "\n",
    "# Initialize empty list\n",
    "error = []\n",
    "\n",
    "# Calculate errors (eps1,eps2) using the check_market_clearing func from ExchangeEconomy.py and filling list\n",
    "for i in p1:\n",
    "    error.append(model.check_market_clearing(i))\n",
    "\n",
    "# check \n",
    "print(error[0:5])\n",
    "\n",
    "# unpack tuple list error \n",
    "error1,error2 = zip(*error)\n",
    "\n",
    "# plot of errors \n",
    "fig = plt.figure(frameon=False,figsize=(6,6), dpi=100)\n",
    "ax_C = fig.add_subplot(1, 1, 1)\n",
    "\n",
    "ax_C.set_ylabel(\"Error under market clearing\")\n",
    "ax_C.set_xlabel(\"$p_1$\")\n",
    "ax_C.set_title(\"Market Clearing errors under $\\mathcal{P}_1$\")\n",
    "\n",
    "ax_C.plot(p1, error1, label = '$\\epsilon_1(p,\\omega)$')\n",
    "ax_C.plot(p1, error2, label = '$\\epsilon_2(p,\\omega)$')\n",
    "ax_C.legend()"
   ]
  },
  {
   "cell_type": "markdown",
   "metadata": {},
   "source": [
    "## 3. <a id='toc3_'></a>[Market clearing price](#toc0_)"
   ]
  },
  {
   "cell_type": "markdown",
   "metadata": {},
   "source": [
    "The market clearing price, is the choice of $p_1$, that make both errors as low as possible, preferably close to zero.  "
   ]
  },
  {
   "cell_type": "code",
   "execution_count": null,
   "metadata": {},
   "outputs": [],
   "source": []
  },
  {
   "cell_type": "markdown",
   "metadata": {},
   "source": [
    "## 4. <a id='toc4_'></a>[Assignment 4](#toc0_)"
   ]
  },
  {
   "cell_type": "markdown",
   "metadata": {},
   "source": [
    "## 5. <a id='toc5_'></a>[Individual optimization](#toc0_)"
   ]
  },
  {
   "cell_type": "markdown",
   "metadata": {},
   "source": [
    "In this part of the assignment, agent A maximizes their own utility under the restriction that agent B is not worse of than in the initial endowment. The prices are taken as given, and allocation is defined as a bundle of goods.\n",
    "\n",
    "$[(x_1^A,x_2^A),(x_1^B,x_2^B)]$\n",
    "\n",
    "In 5.1 the problem, is for A to maximize their utility by choosing $x_1^A, x_2^A$, given prices, under the set of possible pareto optimal bundles in $C$. \n",
    "\n",
    "While in 5.2 we disregard the set $C$.\n"
   ]
  },
  {
   "cell_type": "markdown",
   "metadata": {},
   "source": [
    "### 5.1. <a id='toc5_1_'></a>[Optimizing under C](#toc0_)"
   ]
  },
  {
   "cell_type": "code",
   "execution_count": null,
   "metadata": {},
   "outputs": [],
   "source": [
    "# Agent A optimizes utility of x1A, x2A under the set C\n",
    "\n",
    "# Model params (not needed)\n",
    "\n",
    "alpha = 1/3 \n",
    "beta = 1-alpha \n",
    "\n",
    "# Brute force initial conditions\n",
    "uAmax = -np.inf\n",
    "x1best = -np.inf\n",
    "x2best = -np.inf\n",
    "\n",
    "# loops\n",
    "for x1 in x1possible:\n",
    "    for x2 in x2possible:\n",
    "        uAnew = model.utility_A(x1,x2)\n",
    "        if model.utility_A(x1,x2) > uAmax and model.utility_B(1-x1,1-x2) >= model.utility_B(1-par.w1A,1-par.w2A):\n",
    "            uAmax = uAnew\n",
    "            x1best = x1 \n",
    "            x2best = x2\n",
    "\n",
    "print(f'Utility A max = {uAmax:.3f}: (x1A,x2A) = ({x1best:.3f},{x2best:.3f})')\n",
    "print(f'Utility B max = {model.utility_B(1-x1best,1-x2best):.3f}: (x1B,x2B) = ({1-x1best:.3f},{1-x2best:.3f})')\n",
    "\n",
    "# using a solver \n",
    "\n",
    "# sol_case = optimize.minimize(model.utility_A(x1possible, x2possible)) "
   ]
  },
  {
   "cell_type": "markdown",
   "metadata": {},
   "source": [
    "### 5.2. <a id='toc5_2_'></a>[Optimizing over the infinite set between 0 and 1](#toc0_)"
   ]
  },
  {
   "cell_type": "code",
   "execution_count": null,
   "metadata": {},
   "outputs": [],
   "source": [
    "# Agent A optimizes utility under no further restrictions\n",
    "# This is an almost identical problem, the only change, is x1A, x2A exist on the real axis in [0:1]\n",
    "# Thus if N was sufficiently large in 5.1, the same solution should appear, if not, the opposite.\n",
    "\n",
    "# Using brute force again\n",
    "\n",
    "# Setting high N, simulating large set of numbers in [0:1]\n",
    "N = 2000\n",
    "\n",
    "# Set initial conditions\n",
    "x1possible = np.linspace(0,1,N)\n",
    "x2possible = np.linspace(0,1,N)\n",
    "uAmax = -np.inf\n",
    "x1best = -np.inf\n",
    "x2best = -np.inf\n",
    "\n",
    "# Just checking utility of B from initial endownments. \n",
    "print(f'$u^B(w1B,w2B)$ = {model.utility_B(1-par.w1A, 1-par.w2A):.3f}')\n",
    "\n",
    "# similar loop as 5.a \n",
    "for x1A in x1possible:\n",
    "    for x2A in x2possible:\n",
    "        uAnew = model.utility_A(x1A,x2A)\n",
    "        if model.utility_A(x1A,x2A) > uAmax and model.utility_B(1-x1A,1-x2A) >= model.utility_B(1-par.w1A,1-par.w2A):\n",
    "            uAmax = uAnew\n",
    "            x1best = x1 \n",
    "            x2best = x2\n",
    "\n",
    "print(f'Utility A max = {uAmax:.3f}: (x1A,x2A) = ({x1best:.3f},{x2best:.3f})')\n",
    "print(f'Utility B max = {model.utility_B(1-x1best,1-x2best):.3f}: (x1B,x2B) = ({1-x1best:.3f},{1-x2best:.3f})')"
   ]
  },
  {
   "cell_type": "markdown",
   "metadata": {},
   "source": [
    "The results of 5.2 hints at a minor pareto improvement, suggesting that the original set had enough elements between 0 and 1 to be precise."
   ]
  },
  {
   "cell_type": "markdown",
   "metadata": {},
   "source": [
    "## 6. <a id='toc6_'></a>[Assignment 6](#toc0_)"
   ]
  },
  {
   "cell_type": "markdown",
   "metadata": {},
   "source": [
    "## 7. <a id='toc7_'></a>[$W$](#toc0_)"
   ]
  },
  {
   "cell_type": "markdown",
   "metadata": {},
   "source": [
    "This assignment will illustrate a set $W$, using python psuedo rng. \n",
    "\n",
    "$W=\\{(\\omega_1^A,\\omega_2^A) | \\omega_1^A \\sim \\mathcal{U}(0,1), \\omega_2^A \\sim \\mathcal{U}(0,1)  \\}$\n",
    "\n",
    "The distribution isn't specified, only its moments, we assume it to be a uniform distribution between 0 and 1. "
   ]
  },
  {
   "cell_type": "code",
   "execution_count": 104,
   "metadata": {},
   "outputs": [
    {
     "data": {
      "text/plain": [
       "<matplotlib.legend.Legend at 0x1200a279e90>"
      ]
     },
     "execution_count": 104,
     "metadata": {},
     "output_type": "execute_result"
    },
    {
     "data": {
      "image/png": "[encoded data removed]",
      "text/plain": [
       "<Figure size 600x600 with 1 Axes>"
      ]
     },
     "metadata": {},
     "output_type": "display_data"
    }
   ],
   "source": [
    "# Set seed for reproduceability \n",
    "np.random.seed(1)\n",
    "\n",
    "# w1A = np.random.normal(loc=0,scale=1,size=50)\n",
    "# w2A = np.random.normal(loc=0,scale=1,size=50)\n",
    "\n",
    "# Generate vectors from random draws\n",
    "w1A = np.random.uniform(low=0,high=1,size=50)\n",
    "w2A = np.random.uniform(low=0,high=1,size=50)\n",
    "\n",
    "# Create figure\n",
    "fig = plt.figure(frameon=False,figsize=(6,6), dpi=100)\n",
    "ax_D = fig.add_subplot(1, 1, 1)\n",
    "\n",
    "ax_D.set_xlabel(\"$\\omega_1^A$\")\n",
    "ax_D.set_ylabel(\"$\\omega_2^A$\")\n",
    "ax_D.set_title(\"Random endownments, drawn from normal distribution\")\n",
    "\n",
    "ax_D.scatter(w1A, w2A, label = \"endownment pairs\", color=\"red\", marker=\".\")\n",
    "ax_D.legend()"
   ]
  },
  {
   "cell_type": "markdown",
   "metadata": {},
   "source": [
    "## 8. <a id='toc8_'></a>[Market equilibrium for each $\\omega^A \\in \\mathcal{W}$](#toc0_)"
   ]
  }
 ],
 "metadata": {
  "kernelspec": {
   "display_name": "base",
   "language": "python",
   "name": "python3"
  },
  "language_info": {
   "codemirror_mode": {
    "name": "ipython",
    "version": 3
   },
   "file_extension": ".py",
   "mimetype": "text/x-python",
   "name": "python",
   "nbconvert_exporter": "python",
   "pygments_lexer": "ipython3",
   "version": "3.11.7"
  },
  "orig_nbformat": 4,
  "vscode": {
   "interpreter": {
    "hash": "47ef90cdf3004d3f859f1fb202523c65c07ba7c22eefd261b181f4744e2d0403"
   }
  }
 },
 "nbformat": 4,
 "nbformat_minor": 2
}
